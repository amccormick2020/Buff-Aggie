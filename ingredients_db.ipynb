{
 "cells": [
  {
   "cell_type": "code",
   "execution_count": 1,
   "metadata": {
    "colab": {
     "base_uri": "https://localhost:8080/"
    },
    "id": "AFHMtTGNPYoj",
    "outputId": "a34df7df-9152-49ab-ae53-61d0d82930cd"
   },
   "outputs": [
    {
     "name": "stdout",
     "output_type": "stream",
     "text": []
    },
    {
     "name": "stdout",
     "output_type": "stream",
     "text": []
    },
    {
     "name": "stdout",
     "output_type": "stream",
     "text": []
    },
    {
     "name": "stdout",
     "output_type": "stream",
     "text": []
    }
   ],
   "source": [
    "!pip install transformers\n",
    "!pip install kaggle\n"
   ]
  },
  {
   "cell_type": "code",
   "execution_count": null,
   "metadata": {
    "colab": {
     "base_uri": "https://localhost:8080/"
    },
    "id": "vIC3xu7H4zmz",
    "outputId": "71683d0e-f79e-4e77-93e6-49852ab96889"
   },
   "outputs": [
    {
     "name": "stdout",
     "output_type": "stream",
     "text": []
    }
   ],
   "source": [
    "# Download the Kaggle dataset (replace with your dataset's name and path)\n",
    "#!mkdir ~/.kaggle\n",
    "#!cp kaggle.json ~/.kaggle/\n",
    "#!chmod 600 ~/.kaggle/kaggle.json\n",
    "#!kaggle datasets download -d 'mexwell/food-vitamins-minerals-macronutrient'\n",
    "\n",
    "# Unzip the dataset (adjust the file name if needed)\n",
    "#!unzip food-vitamins-minerals-macronutrient.zip\n",
    "#!ls"
   ]
  },
  {
   "cell_type": "code",
   "execution_count": null,
   "metadata": {
    "colab": {
     "base_uri": "https://localhost:8080/",
     "height": 356
    },
    "id": "3tKJ-vmhIMIV",
    "outputId": "e719a734-4fd4-400f-fa61-0c0beaa67da5"
   },
   "outputs": [
    {
     "name": "stdout",
     "output_type": "stream",
     "text": []
    }
   ],
   "source": [
    "# Import necessary libraries\n",
    "import pandas as pd\n",
    "from transformers import BertTokenizer, BertModel\n",
    "import torch\n",
    "import pickle\n",
    "\n",
    "# Load the dataset into a pandas DataFrame\n",
    "df = pd.read_csv('megaGymDataset.csv')\n",
    "\n",
    "# Specify columns to remove\n",
    "columns_to_remove = ['Rating', 'RatingDesc']\n",
    "\n",
    "# Remove specified columns\n",
    "df = df.drop(columns=columns_to_remove)\n",
    "\n",
    "# Get text data from the second column (food ingredient names)\n",
    "workouts = df.iloc[:, 1].tolist()\n",
    "\n",
    "# Load pre-trained BERT model and tokenizer\n",
    "model_name = 'bert-base-uncased'\n",
    "tokenizer = BertTokenizer.from_pretrained(model_name)\n",
    "model = BertModel.from_pretrained(model_name)\n",
    "\n",
    "# Function to get BERT embeddings\n",
    "def get_bert_embeddings(text):\n",
    "    inputs = tokenizer(text, return_tensors=\"pt\", padding=True, truncation=True, max_length=50)\n",
    "    outputs = model(**inputs)\n",
    "    embeddings = outputs.last_hidden_state[:, 0, :].detach().numpy()  # Get [CLS] token embeddings\n",
    "    return embeddings\n",
    "\n",
    "# Get BERT embeddings for exercises\n",
    "ingredient_embeddings = [get_bert_embeddings(workout) for workout in workouts]\n",
    "\n",
    "# Create a new DataFrame with exercises and their embeddings\n",
    "embeddings_df = pd.DataFrame({'workout': workouts, 'embedding': ingredient_embeddings})\n",
    "\n"
   ]
  },
  {
   "cell_type": "code",
   "execution_count": 8,
   "metadata": {
    "id": "QKsDR2_9-bX8"
   },
   "outputs": [],
   "source": [
    "# Add embeddings to the preprocessed DataFrame\n",
    "df['embedding'] = ingredient_embeddings\n",
    "\n",
    "# Save the updated DataFrame to a pickle file\n",
    "with open('data_with_embeddings.pkl', 'wb') as file:\n",
    "    pickle.dump(df, file)"
   ]
  },
  {
   "cell_type": "code",
   "execution_count": 7,
   "metadata": {
    "colab": {
     "base_uri": "https://localhost:8080/",
     "height": 521
    },
    "id": "BfEWSvv-jkZo",
    "outputId": "a94c57bc-c5bd-4bcc-e980-8289f698cd2d"
   },
   "outputs": [
    {
     "name": "stdout",
     "output_type": "stream",
     "text": []
    },
    {
     "data": {},
     "metadata": {},
     "output_type": "display_data"
    }
   ],
   "source": [
    "print(\"Preprocessed CSV:\")\n",
    "display(df.head())"
   ]
  }
 ],
 "metadata": {
  "colab": {
   "provenance": []
  },
  "kernelspec": {
   "display_name": ".venv",
   "language": "python",
   "name": "python3"
  },
  "language_info": {
   "codemirror_mode": {
    "name": "ipython",
    "version": 3
   },
   "file_extension": ".py",
   "mimetype": "text/x-python",
   "name": "python",
   "nbconvert_exporter": "python",
   "pygments_lexer": "ipython3",
   "version": "3.11.9"
  }
 },
 "nbformat": 4,
 "nbformat_minor": 0
}
