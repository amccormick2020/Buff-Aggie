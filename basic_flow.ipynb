{
 "cells": [
  {
   "cell_type": "markdown",
   "metadata": {},
   "source": [
    "# Handle imports"
   ]
  },
  {
   "cell_type": "code",
   "execution_count": 9,
   "metadata": {},
   "outputs": [],
   "source": [
    "#!pip install langchain langchain-core langgraph cassio langchain_community tiktoken langchain-groq langchainhub langchain_huggingface arxiv wikipedia python-dotenv pandas"
   ]
  },
  {
   "cell_type": "code",
   "execution_count": 10,
   "metadata": {},
   "outputs": [
    {
     "data": {
      "text/plain": [
       "True"
      ]
     },
     "execution_count": 10,
     "metadata": {},
     "output_type": "execute_result"
    }
   ],
   "source": [
    "from dotenv import load_dotenv\n",
    "import os\n",
    "import cassio\n",
    "from uuid import uuid4\n",
    "import numpy as np\n",
    "import pandas as pd\n",
    "import json\n",
    "import pandas as pd\n",
    "\n",
    "\n",
    "from typing import Literal,List,Annotated\n",
    "\n",
    "from langchain_core.prompts import ChatPromptTemplate,PromptTemplate\n",
    "from langchain_core.pydantic_v1 import BaseModel, Field\n",
    "from langchain_core.output_parsers import StrOutputParser\n",
    "from langchain_core.messages import AnyMessage,trim_messages,AIMessage,HumanMessage,RemoveMessage\n",
    "from langchain_core.output_parsers import StrOutputParser,JsonOutputParser\n",
    "from langchain_core.documents import Document\n",
    "\n",
    "\n",
    "from langgraph.graph import END, START, StateGraph\n",
    "from langgraph.checkpoint.memory import MemorySaver\n",
    "from langgraph.graph import add_messages\n",
    "\n",
    "from typing_extensions import TypedDict\n",
    "\n",
    "from transformers import BertTokenizer,BertModel\n",
    "import pickle as pkl\n",
    "\n",
    "load_dotenv()"
   ]
  },
  {
   "cell_type": "code",
   "execution_count": 11,
   "metadata": {},
   "outputs": [],
   "source": [
    "unique_id = uuid4().hex[0:8]\n",
    "os.environ[\"LANGCHAIN_TRACING_V2\"] = \"true\"\n",
    "os.environ[\"LANGCHAIN_PROJECT\"] = f\"Tracing Walkthrough - {unique_id}\"\n",
    "os.environ[\"LANGCHAIN_ENDPOINT\"] = \"https://api.smith.langchain.com\"\n",
    "os.environ[\"LANGCHAIN_API_KEY\"] = os.getenv('LANGCHAIN_API_KEY') # Update to your API key"
   ]
  },
  {
   "cell_type": "code",
   "execution_count": 12,
   "metadata": {},
   "outputs": [],
   "source": [
    "from langsmith import Client\n",
    "client = Client()"
   ]
  },
  {
   "cell_type": "markdown",
   "metadata": {},
   "source": [
    "# Connect to the database"
   ]
  },
  {
   "cell_type": "code",
   "execution_count": 13,
   "metadata": {},
   "outputs": [],
   "source": [
    "# ingredients_db = pkl.load(open('Dataset/preprocessed_data_with_embeddings.pkl', 'rb'))\n",
    "#ingredients_db = pkl.load(open('data_with_embeddings.pkl', 'rb'))\n",
    "ingredients_db = pkl.load(open('data_with_embeddings.pkl', 'rb'))"
   ]
  },
  {
   "cell_type": "code",
   "execution_count": 14,
   "metadata": {},
   "outputs": [
    {
     "data": {
      "text/html": [
       "<div>\n",
       "<style scoped>\n",
       "    .dataframe tbody tr th:only-of-type {\n",
       "        vertical-align: middle;\n",
       "    }\n",
       "\n",
       "    .dataframe tbody tr th {\n",
       "        vertical-align: top;\n",
       "    }\n",
       "\n",
       "    .dataframe thead th {\n",
       "        text-align: right;\n",
       "    }\n",
       "</style>\n",
       "<table border=\"1\" class=\"dataframe\">\n",
       "  <thead>\n",
       "    <tr style=\"text-align: right;\">\n",
       "      <th></th>\n",
       "      <th>Unnamed: 0</th>\n",
       "      <th>Title</th>\n",
       "      <th>Desc</th>\n",
       "      <th>Type</th>\n",
       "      <th>BodyPart</th>\n",
       "      <th>Equipment</th>\n",
       "      <th>Level</th>\n",
       "      <th>embedding</th>\n",
       "    </tr>\n",
       "  </thead>\n",
       "  <tbody>\n",
       "    <tr>\n",
       "      <th>0</th>\n",
       "      <td>0</td>\n",
       "      <td>Partner plank band row</td>\n",
       "      <td>The partner plank band row is an abdominal exe...</td>\n",
       "      <td>Strength</td>\n",
       "      <td>Abdominals</td>\n",
       "      <td>Bands</td>\n",
       "      <td>Intermediate</td>\n",
       "      <td>[[-0.59116715, 0.33531493, 0.21361381, 0.00762...</td>\n",
       "    </tr>\n",
       "    <tr>\n",
       "      <th>1</th>\n",
       "      <td>1</td>\n",
       "      <td>Banded crunch isometric hold</td>\n",
       "      <td>The banded crunch isometric hold is an exercis...</td>\n",
       "      <td>Strength</td>\n",
       "      <td>Abdominals</td>\n",
       "      <td>Bands</td>\n",
       "      <td>Intermediate</td>\n",
       "      <td>[[-0.7548754, -0.17421031, -0.18798593, -0.033...</td>\n",
       "    </tr>\n",
       "    <tr>\n",
       "      <th>2</th>\n",
       "      <td>2</td>\n",
       "      <td>FYR Banded Plank Jack</td>\n",
       "      <td>The banded plank jack is a variation on the pl...</td>\n",
       "      <td>Strength</td>\n",
       "      <td>Abdominals</td>\n",
       "      <td>Bands</td>\n",
       "      <td>Intermediate</td>\n",
       "      <td>[[-0.8293739, -0.21399453, -0.36995414, 0.2343...</td>\n",
       "    </tr>\n",
       "    <tr>\n",
       "      <th>3</th>\n",
       "      <td>3</td>\n",
       "      <td>Banded crunch</td>\n",
       "      <td>The banded crunch is an exercise targeting the...</td>\n",
       "      <td>Strength</td>\n",
       "      <td>Abdominals</td>\n",
       "      <td>Bands</td>\n",
       "      <td>Intermediate</td>\n",
       "      <td>[[-0.26910004, 0.18916038, -0.0077009723, 0.09...</td>\n",
       "    </tr>\n",
       "    <tr>\n",
       "      <th>4</th>\n",
       "      <td>4</td>\n",
       "      <td>Crunch</td>\n",
       "      <td>The crunch is a popular core exercise targetin...</td>\n",
       "      <td>Strength</td>\n",
       "      <td>Abdominals</td>\n",
       "      <td>Bands</td>\n",
       "      <td>Intermediate</td>\n",
       "      <td>[[-0.15759984, 0.3318352, 0.066735335, -0.0022...</td>\n",
       "    </tr>\n",
       "  </tbody>\n",
       "</table>\n",
       "</div>"
      ],
      "text/plain": [
       "   Unnamed: 0                         Title  \\\n",
       "0           0        Partner plank band row   \n",
       "1           1  Banded crunch isometric hold   \n",
       "2           2         FYR Banded Plank Jack   \n",
       "3           3                 Banded crunch   \n",
       "4           4                        Crunch   \n",
       "\n",
       "                                                Desc      Type    BodyPart  \\\n",
       "0  The partner plank band row is an abdominal exe...  Strength  Abdominals   \n",
       "1  The banded crunch isometric hold is an exercis...  Strength  Abdominals   \n",
       "2  The banded plank jack is a variation on the pl...  Strength  Abdominals   \n",
       "3  The banded crunch is an exercise targeting the...  Strength  Abdominals   \n",
       "4  The crunch is a popular core exercise targetin...  Strength  Abdominals   \n",
       "\n",
       "  Equipment         Level                                          embedding  \n",
       "0     Bands  Intermediate  [[-0.59116715, 0.33531493, 0.21361381, 0.00762...  \n",
       "1     Bands  Intermediate  [[-0.7548754, -0.17421031, -0.18798593, -0.033...  \n",
       "2     Bands  Intermediate  [[-0.8293739, -0.21399453, -0.36995414, 0.2343...  \n",
       "3     Bands  Intermediate  [[-0.26910004, 0.18916038, -0.0077009723, 0.09...  \n",
       "4     Bands  Intermediate  [[-0.15759984, 0.3318352, 0.066735335, -0.0022...  "
      ]
     },
     "execution_count": 14,
     "metadata": {},
     "output_type": "execute_result"
    }
   ],
   "source": [
    "ingredients_db.head()"
   ]
  },
  {
   "cell_type": "code",
   "execution_count": 15,
   "metadata": {},
   "outputs": [],
   "source": [
    "# connection of Astra DB\n",
    "ASTRA_DB_APPLICATION_TOKEN = os.getenv(\"ASTRA_DB_APPLICATION_TOKEN\")\n",
    "ASTRA_DB_ID = os.getenv(\"ASTRA_DB_ID\")\n",
    "\n",
    "cassio.init(\n",
    "    token = ASTRA_DB_APPLICATION_TOKEN,\n",
    "    database_id = ASTRA_DB_ID\n",
    ")"
   ]
  },
  {
   "cell_type": "code",
   "execution_count": 16,
   "metadata": {},
   "outputs": [],
   "source": [
    "from langchain_huggingface import HuggingFaceEmbeddings\n",
    "embeddings = HuggingFaceEmbeddings(model_name = \"all-MiniLM-L6-v2\")"
   ]
  },
  {
   "cell_type": "code",
   "execution_count": 17,
   "metadata": {},
   "outputs": [],
   "source": [
    "from langchain.vectorstores import Cassandra\n",
    "astra_vector_store = Cassandra(embedding=embeddings,\n",
    "                               table_name = \"CNM_test_table\",\n",
    "                               session=None,\n",
    "                               keyspace=None)"
   ]
  },
  {
   "cell_type": "code",
   "execution_count": 18,
   "metadata": {},
   "outputs": [
    {
     "name": "stderr",
     "output_type": "stream",
     "text": [
      "No relevant docs were retrieved using the relevance score threshold 0.8\n"
     ]
    },
    {
     "data": {
      "text/plain": [
       "[]"
      ]
     },
     "execution_count": 18,
     "metadata": {},
     "output_type": "execute_result"
    }
   ],
   "source": [
    "workout_retriever = astra_vector_store.as_retriever(    \n",
    "                                                search_type=\"similarity_score_threshold\",\n",
    "                                                search_kwargs={\"k\": 2, \"score_threshold\": 0.8},\n",
    "                                                )   \n",
    "workout_retriever.invoke(\"Give me an upper body workout\")"
   ]
  },
  {
   "cell_type": "markdown",
   "metadata": {},
   "source": [
    "# Langgraph"
   ]
  },
  {
   "cell_type": "markdown",
   "metadata": {},
   "source": [
    "### Datamodel"
   ]
  },
  {
   "cell_type": "code",
   "execution_count": 19,
   "metadata": {},
   "outputs": [],
   "source": [
    "class GeneralRouteQuery(BaseModel):\n",
    "    \"\"\" Route a user query to the most relavent datasource \"\"\"\n",
    "    datasource: Literal[\"workout\",\"general\"] = Field(\n",
    "        ...,\n",
    "        description=\"Given a user question choose to route it to general chat or a workout\"\n",
    "    )\n",
    "\n",
    "class ToolRouteQuery(BaseModel):\n",
    "    \"\"\" Route a user query to the most relavent datasource \"\"\"\n",
    "    datasource: Literal[\"workout_plan\",\"exercise\"] = Field(\n",
    "        ...,\n",
    "        description=\"Given a user question choose to route it to workout_plan or exercise\"\n",
    "    )\n",
    "\n",
    "class GraphState(TypedDict):\n",
    "    \"\"\"\n",
    "    Represents the state of our graph.\n",
    "\n",
    "    Attributes:\n",
    "        messages: recent message history\n",
    "        preferences: uses' workout preferences\n",
    "        documents: list of documents\n",
    "        \n",
    "    \"\"\"\n",
    "    messages: Annotated[list[AnyMessage], add_messages]\n",
    "    documents: List[str]\n",
    "    preferences: str\n",
    "    #BodyPart: str\n",
    "    workout_plan: dict\n",
    "    redo: str\n",
    "    level : str"
   ]
  },
  {
   "cell_type": "markdown",
   "metadata": {},
   "source": [
    "### LLM links"
   ]
  },
  {
   "cell_type": "code",
   "execution_count": 20,
   "metadata": {},
   "outputs": [],
   "source": [
    "from langchain_groq import ChatGroq\n",
    "# from google.colab import userdata\n",
    "import os\n",
    "groq_api_key = os.getenv('groq_api_key')\n",
    "# print(groq_api_key)"
   ]
  },
  {
   "cell_type": "code",
   "execution_count": 21,
   "metadata": {},
   "outputs": [],
   "source": [
    "llm=ChatGroq(groq_api_key=groq_api_key,model_name='Llama-3.3-70b-Versatile')\n",
    "chat_llm = ChatGroq(groq_api_key=groq_api_key,model_name='Llama-3.3-70b-Versatile')\n",
    "\n",
    "structured_llm_general_router=llm.with_structured_output(GeneralRouteQuery)\n",
    "structured_llm_tool_router=llm.with_structured_output(ToolRouteQuery)\n"
   ]
  },
  {
   "cell_type": "markdown",
   "metadata": {},
   "source": [
    "### Prompts"
   ]
  },
  {
   "cell_type": "code",
   "execution_count": 22,
   "metadata": {},
   "outputs": [],
   "source": [
    "# General router Prompt\n",
    "system = \"\"\"You are an expert at routing a user question to a workout or general.\n",
    "The workout can tools to take care of workout planning, exercise finding and creation.\n",
    "Use the workout for questions on these topics. Otherwise, use general.\"\"\"\n",
    "\n",
    "route_prompt = ChatPromptTemplate.from_messages(\n",
    "    [\n",
    "        (\"system\", system),\n",
    "        (\"human\", \"{messages}\"),\n",
    "    ]\n",
    ")\n",
    "\n",
    "general_router = route_prompt | structured_llm_general_router\n",
    "\n",
    "# print(general_router.invoke({\"messages\": \"what is stardew Valley\"}))\n",
    "# print(general_router.invoke({\"messages\": \"How to make a sweet dessert\"}))"
   ]
  },
  {
   "cell_type": "code",
   "execution_count": 23,
   "metadata": {},
   "outputs": [],
   "source": [
    "# tool router Prompt\n",
    "system = \"\"\"\n",
    "You are an expert at routing a user message to a workout_plan or exercise.\n",
    "the workout_plan has access to tools to generate a workout plan for your weight goals.\n",
    "Use the workout_plan for questions on these topics. \n",
    "If the message has to do with finding or modifying a exercise, use exercise.\n",
    "\"\"\"\n",
    "\n",
    "route_prompt = ChatPromptTemplate.from_messages(\n",
    "    [\n",
    "        (\"system\", system),\n",
    "        (\"human\", \"{messages}\"),\n",
    "    ]\n",
    ")\n",
    "\n",
    "tool_router = route_prompt | structured_llm_tool_router\n",
    "\n",
    "# print(tool_router.invoke({\"messages\": \"how to make butter chicken\"}))\n",
    "# print(tool_router.invoke({\"messages\": \"help me plan the workout for the week\"}))"
   ]
  },
  {
   "cell_type": "code",
   "execution_count": 24,
   "metadata": {},
   "outputs": [],
   "source": [
    "# General Chat Prompt\n",
    "system = \"\"\"You are a helpful health coach that answers questions to the best of your ability.\n",
    "Here is the information you have about the user:\n",
    "preferences: {preferences} \n",
    "\n",
    "workout_plan: {workout_plan}\n",
    "\"\"\"\n",
    "general_chat_prompt = ChatPromptTemplate.from_messages(\n",
    "    [\n",
    "        (\"system\", system),\n",
    "        (\"human\", \"{messages}\"),\n",
    "    ]\n",
    ")\n",
    "\n",
    "general_chat = general_chat_prompt | chat_llm"
   ]
  },
  {
   "cell_type": "code",
   "execution_count": 25,
   "metadata": {},
   "outputs": [],
   "source": [
    "temp_docs = \"\"\"\n",
    "[Document(id='730eabbda8404509911d1414f5b54874', metadata={'description': 'Step 1\\r\\nStarting Position: Stand under the chin-up bar and reach your arms overhead with your palms facing you.\\xa0 Reach, jump or lift your body off the floo', 'language': 'en', 'source': 'https://www.acefitness.org/resources/everyone/exercise-library/190/chin-ups/', 'title': 'Arm Exercises | Chin-ups '}, page_content='Arm Exercises | Chin-ups \\n\\n\\n\\n\\n\\n\\n\\n\\n\\n\\n\\n\\n\\n\\n\\n\\n\\n\\n\\n\\n\\n\\n\\n\\n\\n\\n\\n\\n\\n\\n\\n\\n\\n\\n\\n\\n\\n\\n\\nAsset 19\\nangle-down-bold\\nangle-left-bold\\nangle-right-bold\\nangle-up-bold\\n\\n\\n\\nAsset 10\\n\\n\\n\\n\\n\\ncertifications\\n\\nAsset 14\\n\\n\\n\\n\\nclose-bold\\nclose\\n\\n\\n\\n\\n\\nAsset 8\\n\\nAsset 12\\n\\n\\n\\n\\nmenu\\nAsset 18\\nAsset 17\\nAsset 6\\n\\nAsset 16\\n\\n\\n\\n\\n\\n\\n\\n\\nAsset 9\\nAsset 15\\nAsset 11\\n\\n\\nAsset 13\\n\\n\\n\\n\\n\\n\\n\\n\\n\\n\\n\\n\\n\\n\\n\\n\\n\\n\\n\\n\\n\\n\\nACE Fitness\\n\\n\\n\\n\\n\\n\\r\\n                            Certification \\n\\n\\n\\n\\n\\n\\r\\n                            Continuing\\r\\n                            Education \\n\\n\\n\\n\\n\\n\\r\\n                            Resources \\n\\n\\n\\n\\n\\n\\r\\n                            About \\n\\n\\n\\n\\n\\n\\r\\n                            ACE\\r\\n                            IMPACT \\n\\n\\n\\n\\n\\n\\n\\nTALK TO AN ADVISOR!\\n\\n\\n\\n\\n\\n\\n\\r\\n                            Talk to an Advisor\\r\\n                        \\n\\n\\n\\nYour Cart (0)\\n 0\\n\\n\\nSign In\\n\\n\\n\\n\\n\\n\\n\\n\\n\\n\\n\\n\\n\\nSign In\\n\\n\\n\\n\\n\\n\\n\\n\\n Certification\\n\\n\\n\\n\\n\\n\\n\\nNEW EXAM OPTION! Personal Trainer'),\n",
    " Document(id='28fee3d3d7384c5fadc62003f6c367c8', metadata={'description': 'Place a barbell in a squat rack so that the bar is slightly lower than shoulder height, and\\xa0grip the bar with the\\xa0hands about shoulder-width apart. Di', 'language': 'en', 'source': 'https://www.acefitness.org/resources/everyone/exercise-library/24/push-press/', 'title': 'Full Body/Integrated Exercises | Push Press'}, page_content='Full Body/Integrated Exercises | Push Press\\n\\n\\n\\n\\n\\n\\n\\n\\n\\n\\n\\n\\n\\n\\n\\n\\n\\n\\n\\n\\n\\n\\n\\n\\n\\n\\n\\n\\n\\n\\n\\n\\n\\n\\n\\n\\n\\n\\n\\nAsset 19\\nangle-down-bold\\nangle-left-bold\\nangle-right-bold\\nangle-up-bold\\n\\n\\n\\nAsset 10\\n\\n\\n\\n\\n\\ncertifications\\n\\nAsset 14\\n\\n\\n\\n\\nclose-bold\\nclose\\n\\n\\n\\n\\n\\nAsset 8\\n\\nAsset 12\\n\\n\\n\\n\\nmenu\\nAsset 18\\nAsset 17\\nAsset 6\\n\\nAsset 16\\n\\n\\n\\n\\n\\n\\n\\n\\nAsset 9\\nAsset 15\\nAsset 11\\n\\n\\nAsset 13\\n\\n\\n\\n\\n\\n\\n\\n\\n\\n\\n\\n\\n\\n\\n\\n\\n\\n\\n\\n\\n\\n\\nACE Fitness\\n\\n\\n\\n\\n\\n\\r\\n                            Certification \\n\\n\\n\\n\\n\\n\\r\\n                            Continuing\\r\\n                            Education \\n\\n\\n\\n\\n\\n\\r\\n                            Resources \\n\\n\\n\\n\\n\\n\\r\\n                            About \\n\\n\\n\\n\\n\\n\\r\\n                            ACE\\r\\n                            IMPACT \\n\\n\\n\\n\\n\\n\\n\\nTALK TO AN ADVISOR!\\n\\n\\n\\n\\n\\n\\n\\r\\n                            Talk to an Advisor\\r\\n                        \\n\\n\\n\\nYour Cart (0)\\n 0\\n\\n\\nSign In\\n\\n\\n\\n\\n\\n\\n\\n\\n\\n\\n\\n\\n\\nSign In\\n\\n\\n\\n\\n\\n\\n\\n\\n Certification\\n\\n\\n\\n\\n\\n\\n\\nNEW EXAM OPTION! Personal Trainer'),\n",
    " Document(id='dcf7bf8018b3459ab65c9a4ff6753f84', metadata={'description': 'Master the back squat to build leg strength and improve fitness. Learn proper technique inthe ACE Exercise Library.', 'language': 'en', 'source': 'https://www.acefitness.org/resources/everyone/exercise-library/11/back-squat/', 'title': 'Back Squat Exercise Guide | ACE Fitness'}, page_content='Back Squat Exercise Guide | ACE Fitness\\n\\n\\n\\n\\n\\n\\n\\n\\n\\n\\n\\n\\n\\n\\n\\n\\n\\n\\n\\n\\n\\n\\n\\n\\n\\n\\n\\n\\n\\n\\n\\n\\n\\n\\n\\n\\n\\n\\n\\nAsset 19\\nangle-down-bold\\nangle-left-bold\\nangle-right-bold\\nangle-up-bold\\n\\n\\n\\nAsset 10\\n\\n\\n\\n\\n\\ncertifications\\n\\nAsset 14\\n\\n\\n\\n\\nclose-bold\\nclose\\n\\n\\n\\n\\n\\nAsset 8\\n\\nAsset 12\\n\\n\\n\\n\\nmenu\\nAsset 18\\nAsset 17\\nAsset 6\\n\\nAsset 16\\n\\n\\n\\n\\n\\n\\n\\n\\nAsset 9\\nAsset 15\\nAsset 11\\n\\n\\nAsset 13\\n\\n\\n\\n\\n\\n\\n\\n\\n\\n\\n\\n\\n\\n\\n\\n\\n\\n\\n\\n\\n\\n\\nACE Fitness\\n\\n\\n\\n\\n\\n\\r\\n                            Certification \\n\\n\\n\\n\\n\\n\\r\\n                            Continuing\\r\\n                            Education \\n\\n\\n\\n\\n\\n\\r\\n                            Resources \\n\\n\\n\\n\\n\\n\\r\\n                            About \\n\\n\\n\\n\\n\\n\\r\\n                            ACE\\r\\n                            IMPACT \\n\\n\\n\\n\\n\\n\\n\\nTALK TO AN ADVISOR!\\n\\n\\n\\n\\n\\n\\n\\r\\n                            Talk to an Advisor\\r\\n                        \\n\\n\\n\\nYour Cart (0)\\n 0\\n\\n\\nSign In\\n\\n\\n\\n\\n\\n\\n\\n\\n\\n\\n\\n\\n\\nSign In\\n\\n\\n\\n\\n\\n\\n\\n\\n Certification\\n\\n\\n\\n\\n\\n\\n\\nNEW EXAM OPTION! Personal Trainer'),\n",
    " Document(id='ea8030ae1ce94800b2af2abbaf9733ff', metadata={'description': 'Master the bent-over row for a stronger back and lats. Learn proper form and technique with ACE Fitness to enhance your strength training.', 'language': 'en', 'source': 'https://www.acefitness.org/resources/everyone/exercise-library/12/bent-over-row/', 'title': 'Bent-Over Row Exercise Guide | ACE Fitness'}, page_content='Bent-Over Row Exercise Guide | ACE Fitness\\n\\n\\n\\n\\n\\n\\n\\n\\n\\n\\n\\n\\n\\n\\n\\n\\n\\n\\n\\n\\n\\n\\n\\n\\n\\n\\n\\n\\n\\n\\n\\n\\n\\n\\n\\n\\n\\n\\n\\nAsset 19\\nangle-down-bold\\nangle-left-bold\\nangle-right-bold\\nangle-up-bold\\n\\n\\n\\nAsset 10\\n\\n\\n\\n\\n\\ncertifications\\n\\nAsset 14\\n\\n\\n\\n\\nclose-bold\\nclose\\n\\n\\n\\n\\n\\nAsset 8\\n\\nAsset 12\\n\\n\\n\\n\\nmenu\\nAsset 18\\nAsset 17\\nAsset 6\\n\\nAsset 16\\n\\n\\n\\n\\n\\n\\n\\n\\nAsset 9\\nAsset 15\\nAsset 11\\n\\n\\nAsset 13\\n\\n\\n\\n\\n\\n\\n\\n\\n\\n\\n\\n\\n\\n\\n\\n\\n\\n\\n\\n\\n\\n\\nACE Fitness\\n\\n\\n\\n\\n\\n\\r\\n                            Certification \\n\\n\\n\\n\\n\\n\\r\\n                            Continuing\\r\\n                            Education \\n\\n\\n\\n\\n\\n\\r\\n                            Resources \\n\\n\\n\\n\\n\\n\\r\\n                            About \\n\\n\\n\\n\\n\\n\\r\\n                            ACE\\r\\n                            IMPACT \\n\\n\\n\\n\\n\\n\\n\\nTALK TO AN ADVISOR!\\n\\n\\n\\n\\n\\n\\n\\r\\n                            Talk to an Advisor\\r\\n                        \\n\\n\\n\\nYour Cart (0)\\n 0\\n\\n\\nSign In\\n\\n\\n\\n\\n\\n\\n\\n\\n\\n\\n\\n\\n\\nSign In\\n\\n\\n\\n\\n\\n\\n\\n\\n Certification\\n\\n\\n\\n\\n\\n\\n\\nNEW EXAM OPTION! Personal Trainer')]\n",
    "\"\"\""
   ]
  },
  {
   "cell_type": "code",
   "execution_count": 26,
   "metadata": {},
   "outputs": [
    {
     "name": "stdout",
     "output_type": "stream",
     "text": [
      "{'Chin-ups': ['Chin-ups are a popular exercise targeting the arm muscles, particularly the biceps and latissimus dorsi', 'Arms', 'Barbell'], 'Push Press': ['The push press is a variation of the popular barbell exercise the bench press that builds strength and power', 'Full Body/Integrated', 'Barbell'], 'Bent-Over Row': ['The bent-over row is a compound exercise that targets the back muscles, particularly the latissimus dorsi and trapezius', 'Back', 'Barbell']}\n"
     ]
    }
   ],
   "source": [
    "system = \"\"\"\" \n",
    "You are an expert at generating a workout plan based on a user's input such as targeted body part and workout preferences.\n",
    "The user's preferences are : {preferences}\n",
    "\n",
    "\n",
    "You are to take reference from the documents provided below : {documents}\n",
    "\n",
    "You are to generate a workout plan for a day include 3 exercises. The workout plan should be a JSON in the following format:\n",
    "\n",
    "\"Incline bench press\" : [\"The incline bench press is a popular barbell exercise targeting the chest muscles, particularly the ...\",\"Chest\",\"Barbell\"],\n",
    "\"Spoto press\" : [\"The Spoto press is a variation of the popular barbell exercise the bench press that builds strength ...\",\"Chest\",\"Barbell\"],\n",
    "...\n",
    "\n",
    "Please write 3 exercises only. For each exercise for the key write the name of the exercise The contents of each exercise should be the description of the exercise, targeted body part, and equipment needed.\n",
    "\n",
    "where the key is the name of the workout and the value is a list of strings where there are 3 strings in each list adn the first string is the exercise description, the second is the targeted body part, and hte third is the equipment.\n",
    "These can be found in the data_with_embeddings.pkl file.\n",
    "\n",
    "Return the workout plan as a JSON, DO NOT return any other text.\n",
    "Make it so that the output is in 1 line.\n",
    "DO not write any text before or after the brackets\n",
    "\"\"\"\n",
    "\n",
    "generate_workout_plan_prompt = ChatPromptTemplate.from_messages(\n",
    "    [\n",
    "        (\"system\", system),\n",
    "        # (\"human\", \"{messages}\"),\n",
    "    ]\n",
    ")\n",
    "\n",
    "generate_workout_plan = generate_workout_plan_prompt | llm | JsonOutputParser()\n",
    "\n",
    "#temp_mp = generate_workout_plan.invoke({\"preferences\": \"I hate workouts\", \"BodyPart\": \"Chest\", \"documents\": temp_docs})\n",
    "temp_mp = generate_workout_plan.invoke({\"preferences\": \"I prefer workouts with unusual names\", \"documents\": temp_docs})\n",
    "print(temp_mp)\n",
    "\n",
    "# print(output_json)"
   ]
  },
  {
   "cell_type": "code",
   "execution_count": 27,
   "metadata": {},
   "outputs": [],
   "source": [
    "system = \"\"\"\" \n",
    "You are an expert at generating a workout plan based on a user's input such as targeted body part and workout preferences.\n",
    "The user's preferences are : {preferences}\n",
    "Use the information from the following documents to generate the exercise: {documents}\n",
    "\"\"\"\n",
    "generate_exercise_prompt = ChatPromptTemplate.from_messages(\n",
    "    [\n",
    "        (\"system\", system),\n",
    "        (\"human\", \"{messages}\"),\n",
    "    ]\n",
    ")\n",
    "\n",
    "generate_exercise = generate_exercise_prompt | llm"
   ]
  },
  {
   "cell_type": "markdown",
   "metadata": {},
   "source": [
    "### Helper functions"
   ]
  },
  {
   "cell_type": "code",
   "execution_count": 28,
   "metadata": {},
   "outputs": [],
   "source": [
    "def cosine(a,b):\n",
    "    a = a.reshape(-1)  # Reshape to (768,)\n",
    "    b = b.reshape(-1)\n",
    "    # if a == 0 or b == 0:\n",
    "    #     return 0\n",
    "    return np.dot(a,b)/(np.linalg.norm(a)*np.linalg.norm(b))"
   ]
  },
  {
   "cell_type": "code",
   "execution_count": 29,
   "metadata": {},
   "outputs": [],
   "source": [
    "# Load pre-trained BERT model and tokenizer\n",
    "model_name = 'bert-base-uncased'\n",
    "tokenizer = BertTokenizer.from_pretrained(model_name)\n",
    "model = BertModel.from_pretrained(model_name)\n",
    "\n",
    "# Function to get BERT embeddings\n",
    "def get_bert_embeddings(text):\n",
    "    inputs = tokenizer(text, return_tensors=\"pt\", padding=True, truncation=True, max_length=50)\n",
    "    outputs = model(**inputs)\n",
    "    embeddings = outputs.last_hidden_state[:, 0, :].detach().numpy()\n",
    "    return embeddings"
   ]
  },
  {
   "cell_type": "markdown",
   "metadata": {},
   "source": [
    "### nodes"
   ]
  },
  {
   "cell_type": "code",
   "execution_count": 30,
   "metadata": {},
   "outputs": [],
   "source": [
    "def trim(state):\n",
    "    # response = trim_messages(\n",
    "    #     state[\"messages\"],\n",
    "    #     strategy=\"last\",\n",
    "    #     token_counter=len, # each message will be counted as 1 token\n",
    "    #     max_tokens=1,\n",
    "    #     start_on=\"human\",\n",
    "    #     end_on=(\"human\", \"tool\"),\n",
    "    #     include_system=True,\n",
    "    # )\n",
    "    if len(state['messages']) > 2:\n",
    "        delete_messages = [RemoveMessage(id=m.id) for m in state['messages'][:-2]]\n",
    "        return {\"messages\": delete_messages}\n",
    "    else:\n",
    "        return {\"messages\": state['messages']}"
   ]
  },
  {
   "cell_type": "code",
   "execution_count": 31,
   "metadata": {},
   "outputs": [],
   "source": [
    "def general_chat_bot(state):\n",
    "    #response = general_chat.invoke({\"messages\": state[\"messages\"], \"preferences\": state[\"preferences\"], \"BodyPart\": state[\"BodyPart\"], \"workout_plan\": state[\"workout_plan\"]})\n",
    "    response = general_chat.invoke({\"messages\": state[\"messages\"], \"preferences\": state[\"preferences\"], \"workout_plan\": state[\"workout_plan\"]})\n",
    "    # response = chat_llm.invoke(state[\"messages\"])\n",
    "    return {\"messages\": response}"
   ]
  },
  {
   "cell_type": "code",
   "execution_count": 32,
   "metadata": {},
   "outputs": [],
   "source": [
    "def retrieve_exercises(state):\n",
    "    \"\"\"\n",
    "    Retrieve documents\n",
    "\n",
    "    Args:\n",
    "        state (dict): The current graph state\n",
    "\n",
    "    Returns:\n",
    "        state (dict): New key added to state, documents, that contains retrieved documents\n",
    "    \"\"\"\n",
    "    print(\"---RETRIEVE---\")\n",
    "    print(\"retrieved using the prompt: \",state[\"messages\"][-1].content)\n",
    "    \n",
    "    response = workout_retriever.invoke(state[\"messages\"][-1].content)\n",
    "    # print(\"retrieved: \",response)\n",
    "    return {\"documents\": response}"
   ]
  },
  {
   "cell_type": "code",
   "execution_count": 33,
   "metadata": {},
   "outputs": [],
   "source": [
    "def exercise_generator(state):\n",
    "    \n",
    "    \"\"\"\n",
    "    Generate a exercise\n",
    "\n",
    "    Args:\n",
    "        state (dict): The current graph state\n",
    "\n",
    "    Returns:\n",
    "        state (dict): New key added to state, documents, that contains retrieved documents\n",
    "    \"\"\"\n",
    "    print(\"---GENERATE exercise---\")\n",
    "\n",
    "    response = generate_exercise.invoke({\"messages\": state[\"messages\"], \"preferences\": state[\"preferences\"], \"documents\": state[\"documents\"]})\n",
    "    return {\"messages\": response}"
   ]
  },
  {
   "cell_type": "code",
   "execution_count": 34,
   "metadata": {},
   "outputs": [],
   "source": [
    "def general_route(state):\n",
    "    \"\"\"\n",
    "    Route question to general or workout.\n",
    "\n",
    "    Args:\n",
    "        state (dict): The current graph state\n",
    "\n",
    "    Returns:\n",
    "        str: Next node to call\n",
    "    \"\"\"\n",
    "\n",
    "    print(\"---ROUTE QUESTION (GENERAL)---\")\n",
    "    message = state[\"messages\"][-1].content\n",
    "    # print(\"message: \",message)\n",
    "    \n",
    "    source = general_router.invoke({\"messages\": message})\n",
    "    # print(\"source: \",source.datasource)\n",
    "    if source.datasource == \"general\":\n",
    "        print(\"---ROUTE QUESTION TO GENERAL CHAT---\")\n",
    "        return \"general_chat_route\"\n",
    "    elif source.datasource == \"workout\":\n",
    "        print(\"---ROUTE QUESTION TO workout---\")\n",
    "        return \"workout_route\"\n",
    "    else:\n",
    "        raise ValueError(f\"Unknown datasource: {source.datasource}\")"
   ]
  },
  {
   "cell_type": "code",
   "execution_count": 35,
   "metadata": {},
   "outputs": [],
   "source": [
    "def tool_route(state):\n",
    "    \"\"\"\n",
    "    Route question to general or workout.\n",
    "\n",
    "    Args:\n",
    "        state (dict): The current graph state\n",
    "\n",
    "    Returns:\n",
    "        str: Next node to call\n",
    "    \"\"\"\n",
    "\n",
    "    print(\"---ROUTE QUESTION (TOOLS)---\")\n",
    "    message = state[\"messages\"][-1].content\n",
    "    # print(\"message: \",message)\n",
    "    \n",
    "    source = tool_router.invoke({\"messages\": message})\n",
    "    # print(\"source: \",source.datasource)\n",
    "    if source.datasource == \"workout_plan\":\n",
    "        print(\"---ROUTE QUESTION TO workout PLAN---\")\n",
    "        return \"workout_plan_route\"\n",
    "    elif source.datasource == \"exercise\":\n",
    "        print(\"---ROUTE QUESTION TO exercise---\")\n",
    "        return \"exercise_route\"\n",
    "    else:\n",
    "        raise ValueError(f\"Unknown datasource: {source.datasource}\")"
   ]
  },
  {
   "cell_type": "code",
   "execution_count": 36,
   "metadata": {},
   "outputs": [],
   "source": [
    "def workout_plan_retriever(state):\n",
    "    \"\"\"\"\n",
    "    Create a workout plan\n",
    "    Args:\n",
    "        state (dict): The current graph state\n",
    "\n",
    "    Returns:\n",
    "        state (dict): The current graph state with the workout plan added\n",
    "    \n",
    "    \"\"\"\n",
    "    print(\"---workout PLANNER RETRIEVER---\")\n",
    "    documents = workout_retriever.invoke(state[\"preferences\"])\n",
    "    return ({\"documents\": documents})"
   ]
  },
  {
   "cell_type": "code",
   "execution_count": 37,
   "metadata": {},
   "outputs": [],
   "source": [
    "def workout_plan_generator(state):\n",
    "    \"\"\"\"\n",
    "    Create a workout plan\n",
    "    Args:\n",
    "        state (dict): The current graph state\n",
    "\n",
    "    Returns:\n",
    "        state (dict): The current graph state with the workout plan added\n",
    "    \n",
    "    \"\"\"\n",
    "    print(\"---workout PLANNER GENERATOR---\")  \n",
    "    for i in range(5):\n",
    "        try: \n",
    "            workout_plan = generate_workout_plan.invoke({\"preferences\": state[\"preferences\"], \"documents\": state[\"documents\"]})\n",
    "        except:\n",
    "            print(\"---workout PLANNER GENERATOR FAILED---\")\n",
    "            print(\"TRY AGAIN\")\n",
    "            if i == 4:\n",
    "                print(\"---FAILED TOO MANY DAMN TIMES---\")\n",
    "\n",
    "    return ({\"workout_plan\": workout_plan})"
   ]
  },
  {
   "cell_type": "code",
   "execution_count": 38,
   "metadata": {},
   "outputs": [],
   "source": [
    "def general(state):\n",
    "    print(\"reached general state\")\n",
    "    return state\n",
    "\n",
    "def workout(state):\n",
    "    print(\"reached workout state\")\n",
    "    return state"
   ]
  },
  {
   "cell_type": "code",
   "execution_count": 39,
   "metadata": {},
   "outputs": [
    {
     "data": {
      "text/plain": [
       "'\\ndef workout_plan_checker(state):\\n    print(\"---CREATE workout PLAN---\")\\n    workout_plan = state[\\'workout_plan\\']\\n    current_calories = 0\\n    BodyPart = state[\\'BodyPart\\']\\n\\n    for exercise in workout_plan:\\n        for grams, ingredient in workout_plan[exercise]:\\n            # vectorize ingredient\\n            # print(ingredient)\\n            encoded_input = get_bert_embeddings(ingredient)\\n            # compare to db\\n            most_similar = (0,\"\")\\n            for index,item in enumerate(ingredients_db[\\'embedding\\']):\\n                if cosine(item,encoded_input) > most_similar[0]:\\n                    most_similar = (cosine(item,encoded_input),index)\\n\\n            # calculate calories\\n            cal = ingredients_db[\\'Cals_per100grams\\'][most_similar[1]][:-4]\\n            current_calories += grams * (int(cal)/100)\\n\\n    print(\"current Calories calcluated : \",current_calories)\\n    if current_calories > BodyPart:\\n        return {\"redo\": True}\\n    else:\\n        return {\"redo\": False, \"current_calories\": current_calories}\\n'"
      ]
     },
     "execution_count": 39,
     "metadata": {},
     "output_type": "execute_result"
    }
   ],
   "source": [
    "'''\n",
    "def workout_plan_checker(state):\n",
    "    print(\"---CREATE workout PLAN---\")\n",
    "    workout_plan = state['workout_plan']\n",
    "    current_calories = 0\n",
    "    BodyPart = state['BodyPart']\n",
    "\n",
    "    for exercise in workout_plan:\n",
    "        for grams, ingredient in workout_plan[exercise]:\n",
    "            # vectorize ingredient\n",
    "            # print(ingredient)\n",
    "            encoded_input = get_bert_embeddings(ingredient)\n",
    "            # compare to db\n",
    "            most_similar = (0,\"\")\n",
    "            for index,item in enumerate(ingredients_db['embedding']):\n",
    "                if cosine(item,encoded_input) > most_similar[0]:\n",
    "                    most_similar = (cosine(item,encoded_input),index)\n",
    "\n",
    "            # calculate calories\n",
    "            cal = ingredients_db['Cals_per100grams'][most_similar[1]][:-4]\n",
    "            current_calories += grams * (int(cal)/100)\n",
    "\n",
    "    print(\"current Calories calcluated : \",current_calories)\n",
    "    if current_calories > BodyPart:\n",
    "        return {\"redo\": True}\n",
    "    else:\n",
    "        return {\"redo\": False, \"current_calories\": current_calories}\n",
    "'''"
   ]
  },
  {
   "cell_type": "code",
   "execution_count": 40,
   "metadata": {},
   "outputs": [],
   "source": [
    "#def redo_workout_plan(state):\n",
    "#    redo = state['redo']\n",
    "#    if redo:\n",
    "#        return \"redo_workout_plan\"\n",
    "#    else:\n",
    "#        return \"continue\""
   ]
  },
  {
   "cell_type": "code",
   "execution_count": 41,
   "metadata": {},
   "outputs": [],
   "source": [
    "def display_workout_plan(state):\n",
    "    print(\"---DISPLAY workout PLAN---\")\n",
    "    print(\"workout plan: \",state['workout_plan'])\n",
    "    #print(\"body part: \",state['BodyPart'])\n",
    "    return state"
   ]
  },
  {
   "cell_type": "code",
   "execution_count": 42,
   "metadata": {},
   "outputs": [],
   "source": [
    "def create_user(state):\n",
    "    preferences = \"I like hard lower body workouts\"\n",
    "    #BodyPart = 'Chest'\n",
    "    #return {\"preferences\":preferences, \"BodyPart\":BodyPart}\n",
    "    return {\"preferences\":preferences}"
   ]
  },
  {
   "cell_type": "markdown",
   "metadata": {},
   "source": [
    "### Graph creation"
   ]
  },
  {
   "cell_type": "code",
   "execution_count": 43,
   "metadata": {},
   "outputs": [],
   "source": [
    "workflow = StateGraph(GraphState)\n",
    "\n",
    "workflow.add_node(\"create_user\",create_user)\n",
    "workflow.add_node(\"trim\", trim)\n",
    "workflow.add_node(\"general_router\", general)\n",
    "workflow.add_node(\"general_chat_bot\", general_chat_bot)\n",
    "workflow.add_node(\"tool_router\", workout)\n",
    "workflow.add_node(\"retrieve_exercises\", retrieve_exercises)\n",
    "workflow.add_node(\"workout_plan_retriever\", workout_plan_retriever)\n",
    "workflow.add_node(\"generate_workout_plan\", workout_plan_generator)\n",
    "#workflow.add_node(\"check_workout_plan\", workout_plan_checker)\n",
    "# workflow.add_node(\"redo_workout_plan_router\", redo_workout_plan)\n",
    "workflow.add_node(\"display_workout_plan\", display_workout_plan)\n",
    "workflow.add_node(\"generate_exercise\", exercise_generator)\n",
    "\n",
    "# workflow.add_edge(START, \"trim\")\n",
    "workflow.add_edge(START,\"create_user\")\n",
    "workflow.add_edge(\"create_user\",\"trim\")\n",
    "workflow.add_edge(\"trim\", \"general_router\")\n",
    "workflow.add_conditional_edges(\n",
    "    \"general_router\",\n",
    "    general_route,\n",
    "    {\n",
    "        \"general_chat_route\": \"general_chat_bot\",\n",
    "        \"workout_route\": \"tool_router\",\n",
    "    },\n",
    ")\n",
    "workflow.add_conditional_edges(\n",
    "    \"tool_router\",\n",
    "    tool_route,\n",
    "    {\n",
    "        \"workout_plan_route\": \"workout_plan_retriever\",\n",
    "        \"exercise_route\": \"retrieve_exercises\",\n",
    "    },\n",
    ")\n",
    "workflow.add_edge(\"workout_plan_retriever\", \"generate_workout_plan\")\n",
    "#workflow.add_edge(\"generate_workout_plan\", \"check_workout_plan\")\n",
    "workflow.add_edge(\"generate_workout_plan\", \"display_workout_plan\")\n",
    "\n",
    "#workflow.add_conditional_edges(\n",
    "#    \"check_workout_plan\",\n",
    "#    redo_workout_plan,\n",
    "#    {\n",
    "#        \"redo_workout_plan\": \"generate_workout_plan\",\n",
    "#        \"continue\": \"display_workout_plan\",\n",
    "#    },\n",
    "#)\n",
    "workflow.add_edge(\"display_workout_plan\", END)\n",
    "workflow.add_edge(\"general_chat_bot\", END)\n",
    "workflow.add_edge(\"retrieve_exercises\", \"generate_exercise\")\n",
    "workflow.add_edge(\"generate_exercise\", END)\n",
    "# workflow.add_edge(\"workout_plan\", END)\n",
    "\n",
    "memory = MemorySaver()\n",
    "app = workflow.compile(checkpointer = memory)"
   ]
  },
  {
   "cell_type": "code",
   "execution_count": 44,
   "metadata": {},
   "outputs": [
    {
     "data": {
      "image/png": "[encoded data removed]",
      "text/plain": [
       "<IPython.core.display.Image object>"
      ]
     },
     "metadata": {},
     "output_type": "display_data"
    }
   ],
   "source": [
    "from IPython.display import Image, display\n",
    "\n",
    "try:\n",
    "    display(Image(app.get_graph().draw_mermaid_png()))\n",
    "except Exception:\n",
    "    # This requires some extra dependencies and is optional\n",
    "    print(\"ERROR :(\")\n",
    "    pass"
   ]
  },
  {
   "cell_type": "markdown",
   "metadata": {},
   "source": [
    "### Chat and testing"
   ]
  },
  {
   "cell_type": "code",
   "execution_count": 45,
   "metadata": {},
   "outputs": [],
   "source": [
    "config = {\"configurable\": {\"thread_id\": \"1\"}}"
   ]
  },
  {
   "cell_type": "code",
   "execution_count": 46,
   "metadata": {},
   "outputs": [],
   "source": [
    " #input_message = [HumanMessage(content=\"What rank is Tri the Tree?\")]\n",
    " #output = app.invoke({\"messages\":input_message},config=config)\n",
    " #output[\"messages\"][-1].pretty_print()"
   ]
  },
  {
   "cell_type": "code",
   "execution_count": 47,
   "metadata": {},
   "outputs": [
    {
     "name": "stdout",
     "output_type": "stream",
     "text": [
      "reached general state\n",
      "---ROUTE QUESTION (GENERAL)---\n",
      "---ROUTE QUESTION TO workout---\n",
      "reached workout state\n",
      "---ROUTE QUESTION (TOOLS)---\n"
     ]
    },
    {
     "name": "stderr",
     "output_type": "stream",
     "text": [
      "No relevant docs were retrieved using the relevance score threshold 0.8\n"
     ]
    },
    {
     "name": "stdout",
     "output_type": "stream",
     "text": [
      "---ROUTE QUESTION TO workout PLAN---\n",
      "---workout PLANNER RETRIEVER---\n",
      "---workout PLANNER GENERATOR---\n",
      "---DISPLAY workout PLAN---\n",
      "workout plan:  {'Squats': ['The squat is a compound exercise that targets the quadriceps, hamstrings, glutes, and core muscles, and is considered a fundamental movement for building strength and power in the lower body.', 'Legs', 'Barbell'], 'Deadlifts': ['The deadlift is a compound exercise that targets the quadriceps, hamstrings, glutes, back, and core muscles, and is considered one of the most effective exercises for building overall strength and power.', 'Legs', 'Barbell'], 'Lunges': ['The lunge is a compound exercise that targets the quadriceps, hamstrings, glutes, and core muscles, and is effective for building strength, power, and endurance in the lower body.', 'Legs', 'Barbell']}\n",
      "================================\u001b[1m Human Message \u001b[0m=================================\n",
      "\n",
      "Give me a workout plan for upper body workouts\n"
     ]
    }
   ],
   "source": [
    "# input_message = [HumanMessage(content=\"How to make butter chicken\"),\n",
    "#                  HumanMessage(content=\"Help me create a workout plan for the week\"),\n",
    "#                  HumanMessage(content=\"What is the capital of France\")]\n",
    "\n",
    "input_message = [HumanMessage(content=\"Give me a workout plan for upper body workouts\"),]\n",
    "\n",
    "for input_m in input_message:\n",
    "    output = app.invoke({\"messages\":input_m},config=config)\n",
    "    output[\"messages\"][-1].pretty_print()"
   ]
  },
  {
   "cell_type": "code",
   "execution_count": null,
   "metadata": {},
   "outputs": [],
   "source": []
  }
 ],
 "metadata": {
  "kernelspec": {
   "display_name": "Python 3",
   "language": "python",
   "name": "python3"
  },
  "language_info": {
   "codemirror_mode": {
    "name": "ipython",
    "version": 3
   },
   "file_extension": ".py",
   "mimetype": "text/x-python",
   "name": "python",
   "nbconvert_exporter": "python",
   "pygments_lexer": "ipython3",
   "version": "3.11.9"
  }
 },
 "nbformat": 4,
 "nbformat_minor": 2
}
